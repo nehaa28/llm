{
  "cells": [
    {
      "cell_type": "markdown",
      "metadata": {
        "id": "eyvMT7HOCRHr"
      },
      "source": [
        "<a target=\"_blank\" href=\"https://colab.research.google.com/github/sarthakrastogi/quality-prompts/blob/main/examples/zero_shot_cot_usage.ipynb\">\n",
        "  <img src=\"https://colab.research.google.com/assets/colab-badge.svg\" alt=\"Open In Colab\"/>\n",
        "</a>"
      ]
    },
    {
      "cell_type": "code",
      "execution_count": null,
      "metadata": {
        "id": "vY4e7lqxCRHw"
      },
      "outputs": [],
      "source": [
        "%%capture\n",
        "!pip install quality-prompts"
      ]
    },
    {
      "cell_type": "code",
      "execution_count": null,
      "metadata": {
        "id": "wliuxjpECRHy"
      },
      "outputs": [],
      "source": [
        "import os\n",
        "\n",
        "from quality_prompts.prompt import QualityPrompt\n",
        "from quality_prompts.utils.llm import llm_call"
      ]
    },
    {
      "cell_type": "code",
      "execution_count": null,
      "metadata": {
        "id": "mSVmo-oOCRHz"
      },
      "outputs": [],
      "source": [
        "os.environ['OPENAI_API_KEY'] = \"YOUR_API_KEY_HERE\""
      ]
    },
    {
      "cell_type": "markdown",
      "metadata": {
        "id": "jVQO02NICRHz"
      },
      "source": [
        "# Example 1: Tabular Chain of Thought Prompting"
      ]
    },
    {
      "cell_type": "markdown",
      "metadata": {
        "id": "xtX0HE7VCRH0"
      },
      "source": [
        "### Define your prompt's components and initialise it"
      ]
    },
    {
      "cell_type": "code",
      "execution_count": null,
      "metadata": {
        "id": "HYTzJMeXCRH1"
      },
      "outputs": [],
      "source": [
        "directive = \"\"\"Solve the given math problem\"\"\"\n",
        "prompt = QualityPrompt(directive=directive)"
      ]
    },
    {
      "cell_type": "code",
      "execution_count": null,
      "metadata": {
        "id": "KUnZ31q6CRH2"
      },
      "outputs": [],
      "source": [
        "input_text = \"\"\"Jackson is planting tulips. He can fit 6 red tulips in a row and 8 blue\n",
        "tulips in a row. If Jackson buys 36 red tulips and 24 blue tulips, how\n",
        "many rows of flowers will he plant?\"\"\""
      ]
    },
    {
      "cell_type": "markdown",
      "metadata": {
        "id": "KtAzhMRQCRH2"
      },
      "source": [
        "### Apply Tabular Chain of Thought prompting"
      ]
    },
    {
      "cell_type": "code",
      "execution_count": null,
      "metadata": {
        "id": "Ydh4x0ABCRH3",
        "outputId": "0e62a2dc-6163-494a-b47a-2b83fce4850a"
      },
      "outputs": [
        {
          "name": "stdout",
          "output_type": "stream",
          "text": [
            "Solve the given math problem\n",
            "        Think through the problem step by step to solve it.\n",
            "        At each step, you have to figure out:\n",
            "        - the step number,\n",
            "        - the sub-question to be answered in that step,\n",
            "        - the thought process of solving that step, and\n",
            "        - the result of solving that step.\n",
            "    \n",
            "        \n",
            "        \n",
            "        \n",
            "        Respond in the following markdown table format for each step:\n",
            "        |step|subquestion|process|result|\n",
            "    \n",
            "        \n"
          ]
        }
      ],
      "source": [
        "prompt.tabular_chain_of_thought_prompting(input_text=input_text)\n",
        "compiled_quality_prompt = prompt.compile()\n",
        "print(compiled_quality_prompt)"
      ]
    },
    {
      "cell_type": "markdown",
      "metadata": {
        "id": "JML-blcLCRH4"
      },
      "source": [
        "### Test the compiled prompt"
      ]
    },
    {
      "cell_type": "code",
      "execution_count": null,
      "metadata": {
        "id": "OLi-q5TuCRH5",
        "outputId": "c4ba5cb1-7480-4724-b32b-5ee28ec92f91"
      },
      "outputs": [
        {
          "name": "stdout",
          "output_type": "stream",
          "text": [
            "|step|subquestion|process|result|\n",
            "|-|-|-|-|\n",
            "|1|Calculate the number of rows of red tulips that Jackson can plant.|Divide the total number of red tulips (36) by the number of red tulips in a row (6).|6 rows|\n",
            "|2|Calculate the number of rows of blue tulips that Jackson can plant.|Divide the total number of blue tulips (24) by the number of blue tulips in a row (8).|3 rows|\n",
            "|3|Calculate the total number of rows of flowers that Jackson will plant.|Add the rows of red tulips and blue tulips.|6 rows (red) + 3 rows (blue) = 9 rows| \n",
            "\n",
            "Therefore, Jackson will plant a total of 9 rows of flowers.\n"
          ]
        }
      ],
      "source": [
        "messages = [{\"role\" : \"system\", \"content\" : compiled_quality_prompt},\n",
        "            {\"role\" : \"user\", \"content\" : input_text}]\n",
        "response = llm_call(messages)\n",
        "print(response)"
      ]
    },
    {
      "cell_type": "markdown",
      "metadata": {
        "id": "fcdmdZftCRH6"
      },
      "source": [
        "# Example 2: Step back prompting"
      ]
    },
    {
      "cell_type": "code",
      "execution_count": null,
      "metadata": {
        "id": "rVDyG38rCRH6"
      },
      "outputs": [],
      "source": [
        "directive = \"\"\"Solve the given math problem\"\"\"\n",
        "prompt = QualityPrompt(\n",
        "                        directive=directive,\n",
        "                        additional_information=\"\",\n",
        "                       )"
      ]
    },
    {
      "cell_type": "code",
      "execution_count": null,
      "metadata": {
        "id": "twS4Er7BCRH7"
      },
      "outputs": [],
      "source": [
        "input_text = \"\"\"What happens to the pressure, P, of an ideal gas if\n",
        "the temperature is increased by a factor of 2 and the\n",
        "volume is increased by a factor of 8 ?\"\"\""
      ]
    },
    {
      "cell_type": "markdown",
      "metadata": {
        "id": "cpOvelX6CRH7"
      },
      "source": [
        "### Apply Step Back Prompting"
      ]
    },
    {
      "cell_type": "code",
      "execution_count": null,
      "metadata": {
        "id": "2zgke2fDCRH7",
        "outputId": "b0bdce26-cdcc-49ed-e4bb-f70427000d0f"
      },
      "outputs": [
        {
          "name": "stdout",
          "output_type": "stream",
          "text": [
            "Solve the given math problem\n",
            "        Question: How does the pressure of an ideal gas change when the temperature and volume are altered according to specific factors?\n",
            "                                            Answer: According to the ideal gas law, the pressure of an ideal gas is directly proportional to its temperature and inversely proportional to its volume. This relationship can be expressed by the formula:\n",
            "\n",
            "\\[ PV = nRT \\]\n",
            "\n",
            "where:\n",
            "- \\( P \\) is the pressure of the gas\n",
            "- \\( V \\) is the volume of the gas\n",
            "- \\( n \\) is the number of moles of gas\n",
            "- \\( R \\) is the ideal gas constant\n",
            "- \\( T \\) is the temperature of the gas in kelvin\n",
            "\n",
            "If we alter the temperature and volume of the gas according to specific factors, the pressure will change as follows:\n",
            "\n",
            "1. If the volume of the gas is decreased while keeping the temperature constant, the pressure will increase. This is known as Boyle's Law, which states that pressure and volume are inversely proportional when temperature is constant.\n",
            "\n",
            "2. If the temperature of the gas is increased while keeping the volume constant, the pressure will also increase. This is known as Charles's Law, which states that pressure and temperature are directly proportional when volume is constant.\n",
            "\n",
            "3. If both the temperature and volume of the gas are changed, the overall effect on pressure will depend on the specific changes made. However, in general, increasing temperature and decreasing volume will lead to a greater increase in pressure.\n",
            "\n",
            "In summary, the pressure of an ideal gas will change in response to alterations in temperature and volume according to the relationships described by Boyle's Law and Charles's Law.\n",
            "                                        \n",
            "        \n",
            "        \n",
            "        \n"
          ]
        }
      ],
      "source": [
        "prompt.step_back_prompting(input_text=input_text)\n",
        "compiled_quality_prompt = prompt.compile()\n",
        "print(compiled_quality_prompt)"
      ]
    },
    {
      "cell_type": "markdown",
      "metadata": {
        "id": "WVtE07VpCRH8"
      },
      "source": [
        "### Test the compiled prompt"
      ]
    },
    {
      "cell_type": "code",
      "execution_count": null,
      "metadata": {
        "id": "Jk1nI_FGCRH8",
        "outputId": "52cf3881-d105-4cd3-9a46-20a0b35a4b7b"
      },
      "outputs": [
        {
          "name": "stdout",
          "output_type": "stream",
          "text": [
            "To determine the change in pressure of an ideal gas when the temperature is increased by a factor of 2 and the volume is increased by a factor of 8, we can refer to the ideal gas law:\n",
            "\n",
            "\\[ PV = nRT \\]\n",
            "\n",
            "Given that the initial pressure is \\( P \\), the initial temperature is \\( T \\), and the initial volume is \\( V \\), we can express the initial situation as:\n",
            "\n",
            "\\[ PV = nRT \\]\n",
            "\n",
            "When the temperature is increased by a factor of 2, the new temperature becomes \\( 2T \\).\n",
            "\n",
            "When the volume is increased by a factor of 8, the new volume becomes \\( 8V \\).\n",
            "\n",
            "Substitute the new temperature and volume into the ideal gas law equation:\n",
            "\n",
            "\\[ P(8V) = nR(2T) \\]\n",
            "\n",
            "\\[ 8PV = 2nRT \\]\n",
            "\n",
            "Divide both sides by 8:\n",
            "\n",
            "\\[ P = \\frac{2nRT}{8V} \\]\n",
            "\n",
            "\\[ P = \\frac{nRT}{4V} \\]\n",
            "\n",
            "Since the number of moles of gas and the gas constant remain constant, the new pressure can be expressed as:\n",
            "\n",
            "\\[ P_{new} = \\frac{P_{initial}}{4} \\]\n",
            "\n",
            "Therefore, if the temperature is increased by a factor of 2 and the volume is increased by a factor of 8, the pressure of the ideal gas will decrease to one-fourth of its initial value.\n"
          ]
        }
      ],
      "source": [
        "messages = [{\"role\" : \"system\", \"content\" : compiled_quality_prompt},\n",
        "            {\"role\" : \"user\", \"content\" : input_text}]\n",
        "response = llm_call(messages)\n",
        "print(response)"
      ]
    }
  ],
  "metadata": {
    "kernelspec": {
      "display_name": "base",
      "language": "python",
      "name": "python3"
    },
    "language_info": {
      "codemirror_mode": {
        "name": "ipython",
        "version": 3
      },
      "file_extension": ".py",
      "mimetype": "text/x-python",
      "name": "python",
      "nbconvert_exporter": "python",
      "pygments_lexer": "ipython3",
      "version": "3.10.9"
    },
    "colab": {
      "provenance": []
    }
  },
  "nbformat": 4,
  "nbformat_minor": 0
}